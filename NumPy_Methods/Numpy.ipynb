{
  "nbformat": 4,
  "nbformat_minor": 0,
  "metadata": {
    "colab": {
      "provenance": [],
      "authorship_tag": "ABX9TyMcKvmuzOwBV0pYvIVghLSi",
      "include_colab_link": true
    },
    "kernelspec": {
      "name": "python3",
      "display_name": "Python 3"
    },
    "language_info": {
      "name": "python"
    }
  },
  "cells": [
    {
      "cell_type": "markdown",
      "metadata": {
        "id": "view-in-github",
        "colab_type": "text"
      },
      "source": [
        "<a href=\"https://colab.research.google.com/github/UchihaItachi95/ML-Algorithms/blob/numPy-important-methods/Numpy.ipynb\" target=\"_parent\"><img src=\"https://colab.research.google.com/assets/colab-badge.svg\" alt=\"Open In Colab\"/></a>"
      ]
    },
    {
      "cell_type": "markdown",
      "source": [
        "# Numpy\n",
        "## The numpy library is core library for scientific computing in Python it provides a high-performance multidimensionalarray object and tools for working with these arrays"
      ],
      "metadata": {
        "id": "1ygOEyHVXW4T"
      }
    },
    {
      "cell_type": "markdown",
      "source": [
        "To use it you can use pip install numpy to install it in your IDE or you can use !pip install in jupyter notebook"
      ],
      "metadata": {
        "id": "8XVAsYE5YnfP"
      }
    },
    {
      "cell_type": "code",
      "source": [
        "import numpy as np\n"
      ],
      "metadata": {
        "id": "csqOH0n9Y5n1"
      },
      "execution_count": null,
      "outputs": []
    },
    {
      "cell_type": "markdown",
      "source": [
        "# Creating Arrays"
      ],
      "metadata": {
        "id": "JsadOK7DYZzl"
      }
    },
    {
      "cell_type": "code",
      "source": [
        "a = np.array([1, 2, 3]) # Creating array of 1 dimension\n",
        "a"
      ],
      "metadata": {
        "colab": {
          "base_uri": "https://localhost:8080/"
        },
        "id": "VtrQRmlqYZIG",
        "outputId": "62dba373-9793-4b91-fc8a-c79b06f3a11b"
      },
      "execution_count": null,
      "outputs": [
        {
          "output_type": "execute_result",
          "data": {
            "text/plain": [
              "array([1, 2, 3])"
            ]
          },
          "metadata": {},
          "execution_count": 4
        }
      ]
    },
    {
      "cell_type": "code",
      "source": [
        "b = np.array([(1.5, 2, 3), (4, 5, 6)], dtype = float ) # Creating 2D array with data type float\n",
        "b"
      ],
      "metadata": {
        "colab": {
          "base_uri": "https://localhost:8080/"
        },
        "id": "lqTFsBIEXWAq",
        "outputId": "cc167c9b-7355-4ca2-8775-0de83f2b9a36"
      },
      "execution_count": null,
      "outputs": [
        {
          "output_type": "execute_result",
          "data": {
            "text/plain": [
              "array([[1.5, 2. , 3. ],\n",
              "       [4. , 5. , 6. ]])"
            ]
          },
          "metadata": {},
          "execution_count": 6
        }
      ]
    },
    {
      "cell_type": "code",
      "source": [
        "# Creating 3D array of shape (2, 2, 3) that means 2 matrices each one of them has a 2 rows and 3 columns\n",
        "c = np.array([[(1.5, 2, 3), (4, 5, 6)],[(3, 2, 1), (4, 5, 6)]] ,dtype = float)\n",
        "print(c)\n",
        "print(c.shape)\n"
      ],
      "metadata": {
        "colab": {
          "base_uri": "https://localhost:8080/"
        },
        "id": "XQywvL5vXV9Q",
        "outputId": "123fd83f-9a3d-443d-9b4b-8beac8cb8cd9"
      },
      "execution_count": null,
      "outputs": [
        {
          "output_type": "stream",
          "name": "stdout",
          "text": [
            "[[[1.5 2.  3. ]\n",
            "  [4.  5.  6. ]]\n",
            "\n",
            " [[3.  2.  1. ]\n",
            "  [4.  5.  6. ]]]\n",
            "(2, 2, 3)\n"
          ]
        }
      ]
    },
    {
      "cell_type": "markdown",
      "source": [
        "# Some helper methods"
      ],
      "metadata": {
        "id": "lXLRqbdmdxDs"
      }
    },
    {
      "cell_type": "markdown",
      "source": [
        "np.zeros()"
      ],
      "metadata": {
        "id": "ZSXnR938eHEF"
      }
    },
    {
      "cell_type": "code",
      "source": [
        "np.zeros((3, 4)) # Create an array of zeros of dimensions (3,4)"
      ],
      "metadata": {
        "colab": {
          "base_uri": "https://localhost:8080/"
        },
        "id": "SIq6odKIXV7X",
        "outputId": "8dd2e5c1-cec8-4076-f5a1-b8c4061b0005"
      },
      "execution_count": null,
      "outputs": [
        {
          "output_type": "execute_result",
          "data": {
            "text/plain": [
              "array([[0., 0., 0., 0.],\n",
              "       [0., 0., 0., 0.],\n",
              "       [0., 0., 0., 0.]])"
            ]
          },
          "metadata": {},
          "execution_count": 12
        }
      ]
    },
    {
      "cell_type": "markdown",
      "source": [
        "np.ones()"
      ],
      "metadata": {
        "id": "yAmPVW7yeKZY"
      }
    },
    {
      "cell_type": "code",
      "source": [
        "np.ones((2, 3, 4),dtype=np.int16) # Create an array of ones"
      ],
      "metadata": {
        "colab": {
          "base_uri": "https://localhost:8080/"
        },
        "id": "P5p4YMbhXV5L",
        "outputId": "8d0cb03d-5c65-4e78-9be3-23f22126096c"
      },
      "execution_count": null,
      "outputs": [
        {
          "output_type": "execute_result",
          "data": {
            "text/plain": [
              "array([[[1, 1, 1, 1],\n",
              "        [1, 1, 1, 1],\n",
              "        [1, 1, 1, 1]],\n",
              "\n",
              "       [[1, 1, 1, 1],\n",
              "        [1, 1, 1, 1],\n",
              "        [1, 1, 1, 1]]], dtype=int16)"
            ]
          },
          "metadata": {},
          "execution_count": 13
        }
      ]
    },
    {
      "cell_type": "markdown",
      "source": [
        "np.arange()"
      ],
      "metadata": {
        "id": "2E7JjnL0erR2"
      }
    },
    {
      "cell_type": "code",
      "source": [
        "d = np.arange(10, 25, 5) # Create an array of evenly spaced values (step value)\n",
        "# in other words This creates an array of values between 10 and 25, with a step\n",
        "d"
      ],
      "metadata": {
        "colab": {
          "base_uri": "https://localhost:8080/"
        },
        "id": "jTmeuZdEXV2w",
        "outputId": "3649a199-ca98-481b-d48f-a5e13dc43dfc"
      },
      "execution_count": null,
      "outputs": [
        {
          "output_type": "execute_result",
          "data": {
            "text/plain": [
              "array([10, 15, 20])"
            ]
          },
          "metadata": {},
          "execution_count": 15
        }
      ]
    },
    {
      "cell_type": "markdown",
      "source": [
        "np.linspace()"
      ],
      "metadata": {
        "id": "YhhQWRu8f3Vj"
      }
    },
    {
      "cell_type": "code",
      "source": [
        "np.linspace(0, 2, 9) # This creates an array of 9 values between 0 and 2, with a step size of 1/9."
      ],
      "metadata": {
        "colab": {
          "base_uri": "https://localhost:8080/"
        },
        "id": "mxldvYUyXV0c",
        "outputId": "5ce7ffbb-1bf4-4136-84a5-82c9293cf2f2"
      },
      "execution_count": null,
      "outputs": [
        {
          "output_type": "execute_result",
          "data": {
            "text/plain": [
              "array([0.  , 0.25, 0.5 , 0.75, 1.  , 1.25, 1.5 , 1.75, 2.  ])"
            ]
          },
          "metadata": {},
          "execution_count": 16
        }
      ]
    },
    {
      "cell_type": "markdown",
      "source": [
        "np.full()"
      ],
      "metadata": {
        "id": "41_Rn4vzf7sP"
      }
    },
    {
      "cell_type": "code",
      "source": [
        "e = np.full((2,2), 7) # Creates a constant array of the element 7\n",
        "e"
      ],
      "metadata": {
        "colab": {
          "base_uri": "https://localhost:8080/"
        },
        "id": "akpEW6LYXVyK",
        "outputId": "6dd545cb-bdf2-4c94-dfd5-c587587be1fe"
      },
      "execution_count": null,
      "outputs": [
        {
          "output_type": "execute_result",
          "data": {
            "text/plain": [
              "array([[7, 7],\n",
              "       [7, 7]])"
            ]
          },
          "metadata": {},
          "execution_count": 18
        }
      ]
    },
    {
      "cell_type": "markdown",
      "source": [
        "np.eye()"
      ],
      "metadata": {
        "id": "okCyCSdHgQGg"
      }
    },
    {
      "cell_type": "code",
      "source": [
        "f = np.eye(2)# Create a 2x2 identity matrix\n",
        "f"
      ],
      "metadata": {
        "colab": {
          "base_uri": "https://localhost:8080/"
        },
        "id": "VQaPO8TngTwz",
        "outputId": "69a030c8-8c39-41ec-c008-e3aeefae0bef"
      },
      "execution_count": null,
      "outputs": [
        {
          "output_type": "execute_result",
          "data": {
            "text/plain": [
              "array([[1., 0.],\n",
              "       [0., 1.]])"
            ]
          },
          "metadata": {},
          "execution_count": 19
        }
      ]
    },
    {
      "cell_type": "markdown",
      "source": [
        "np.random.random()"
      ],
      "metadata": {
        "id": "9I0MwdFsgpG3"
      }
    },
    {
      "cell_type": "code",
      "source": [
        "np.random.random((2,2)) # Create an array with random values"
      ],
      "metadata": {
        "colab": {
          "base_uri": "https://localhost:8080/"
        },
        "id": "GoH2e-rSf7Nh",
        "outputId": "2311726a-d0de-445f-ce69-197a524cc00a"
      },
      "execution_count": null,
      "outputs": [
        {
          "output_type": "execute_result",
          "data": {
            "text/plain": [
              "array([[0.23634864, 0.61444561],\n",
              "       [0.24545221, 0.70503705]])"
            ]
          },
          "metadata": {},
          "execution_count": 20
        }
      ]
    },
    {
      "cell_type": "markdown",
      "source": [
        "np.info()"
      ],
      "metadata": {
        "id": "GLvB0BUJhTZt"
      }
    },
    {
      "cell_type": "code",
      "source": [
        "np.info(np.ndarray.dtype) # Asking for a help use np.info"
      ],
      "metadata": {
        "colab": {
          "base_uri": "https://localhost:8080/"
        },
        "id": "JYK_Upbkf7KF",
        "outputId": "c61b6c84-5ebc-494e-bb0c-efbcbc3ff2f9"
      },
      "execution_count": null,
      "outputs": [
        {
          "output_type": "stream",
          "name": "stdout",
          "text": [
            "Data-type of the array's elements.\n",
            "\n",
            ".. warning::\n",
            "\n",
            "    Setting ``arr.dtype`` is discouraged and may be deprecated in the\n",
            "    future.  Setting will replace the ``dtype`` without modifying the\n",
            "    memory (see also `ndarray.view` and `ndarray.astype`).\n",
            "\n",
            "Parameters\n",
            "----------\n",
            "None\n",
            "\n",
            "Returns\n",
            "-------\n",
            "d : numpy dtype object\n",
            "\n",
            "See Also\n",
            "--------\n",
            "ndarray.astype : Cast the values contained in the array to a new data-type.\n",
            "ndarray.view : Create a view of the same data but a different data-type.\n",
            "numpy.dtype\n",
            "\n",
            "Examples\n",
            "--------\n",
            ">>> x\n",
            "array([[0, 1],\n",
            "       [2, 3]])\n",
            ">>> x.dtype\n",
            "dtype('int32')\n",
            ">>> type(x.dtype)\n",
            "<type 'numpy.dtype'>\n"
          ]
        }
      ]
    },
    {
      "cell_type": "markdown",
      "source": [
        "# Inspecting Your Array"
      ],
      "metadata": {
        "id": "1sq2Avbah63k"
      }
    },
    {
      "cell_type": "markdown",
      "source": [
        "shape"
      ],
      "metadata": {
        "id": "Rndt9L1JiLij"
      }
    },
    {
      "cell_type": "code",
      "source": [
        "a.shape # gives you array dimensions"
      ],
      "metadata": {
        "colab": {
          "base_uri": "https://localhost:8080/"
        },
        "id": "_Jcd2Czsf7Hx",
        "outputId": "24d0b46f-9a78-40f9-8ee3-c0e1d23ef8a8"
      },
      "execution_count": null,
      "outputs": [
        {
          "output_type": "execute_result",
          "data": {
            "text/plain": [
              "(3,)"
            ]
          },
          "metadata": {},
          "execution_count": 25
        }
      ]
    },
    {
      "cell_type": "markdown",
      "source": [
        "len()"
      ],
      "metadata": {
        "id": "5EYwWmTgiP97"
      }
    },
    {
      "cell_type": "code",
      "source": [
        "len(a) # Length of array"
      ],
      "metadata": {
        "colab": {
          "base_uri": "https://localhost:8080/"
        },
        "id": "PYgkW9Hif7FM",
        "outputId": "d70c8315-33d8-4b21-d204-2173de03a709"
      },
      "execution_count": null,
      "outputs": [
        {
          "output_type": "execute_result",
          "data": {
            "text/plain": [
              "3"
            ]
          },
          "metadata": {},
          "execution_count": 27
        }
      ]
    },
    {
      "cell_type": "markdown",
      "source": [
        "ndim"
      ],
      "metadata": {
        "id": "13Ld_7psiaFy"
      }
    },
    {
      "cell_type": "code",
      "source": [
        "b.ndim # Number od array dimension"
      ],
      "metadata": {
        "colab": {
          "base_uri": "https://localhost:8080/"
        },
        "id": "8tcaQcRNf7DE",
        "outputId": "190c57e4-7d87-4e6a-cae8-05dc5df536ed"
      },
      "execution_count": null,
      "outputs": [
        {
          "output_type": "execute_result",
          "data": {
            "text/plain": [
              "2"
            ]
          },
          "metadata": {},
          "execution_count": 28
        }
      ]
    },
    {
      "cell_type": "markdown",
      "source": [
        "size"
      ],
      "metadata": {
        "id": "tkSkw_tEilWT"
      }
    },
    {
      "cell_type": "code",
      "source": [
        "e.size #Number of array elements"
      ],
      "metadata": {
        "colab": {
          "base_uri": "https://localhost:8080/"
        },
        "id": "hXTQx5RVf7BF",
        "outputId": "b69b4b22-dbec-44fa-a6d9-7327d484e7f7"
      },
      "execution_count": null,
      "outputs": [
        {
          "output_type": "execute_result",
          "data": {
            "text/plain": [
              "4"
            ]
          },
          "metadata": {},
          "execution_count": 29
        }
      ]
    },
    {
      "cell_type": "markdown",
      "source": [
        "dtype"
      ],
      "metadata": {
        "id": "Eegz7ME3in7T"
      }
    },
    {
      "cell_type": "code",
      "source": [
        "b.dtype  #Data type of array elements"
      ],
      "metadata": {
        "colab": {
          "base_uri": "https://localhost:8080/"
        },
        "id": "q7qSKUo3f6-l",
        "outputId": "5c015674-b792-48cc-9a2b-f87a0c8bdefd"
      },
      "execution_count": null,
      "outputs": [
        {
          "output_type": "execute_result",
          "data": {
            "text/plain": [
              "dtype('float64')"
            ]
          },
          "metadata": {},
          "execution_count": 30
        }
      ]
    },
    {
      "cell_type": "markdown",
      "source": [
        "dtype.name"
      ],
      "metadata": {
        "id": "cZoN8vtuiyRZ"
      }
    },
    {
      "cell_type": "code",
      "source": [
        "b.dtype.name  #Name of data type"
      ],
      "metadata": {
        "colab": {
          "base_uri": "https://localhost:8080/",
          "height": 36
        },
        "id": "TNotqDQ8iqCS",
        "outputId": "255378e8-4577-4dd3-f9ec-0c9f6a7d69ff"
      },
      "execution_count": null,
      "outputs": [
        {
          "output_type": "execute_result",
          "data": {
            "text/plain": [
              "'float64'"
            ],
            "application/vnd.google.colaboratory.intrinsic+json": {
              "type": "string"
            }
          },
          "metadata": {},
          "execution_count": 31
        }
      ]
    },
    {
      "cell_type": "markdown",
      "source": [
        "astype()"
      ],
      "metadata": {
        "id": "IYr_zyRyi17c"
      }
    },
    {
      "cell_type": "code",
      "source": [
        "b.astype(int) #Convert an array to a different type"
      ],
      "metadata": {
        "colab": {
          "base_uri": "https://localhost:8080/"
        },
        "id": "GdqMEd7UiuED",
        "outputId": "d82ea141-9344-4c89-82f3-c759f72aeff2"
      },
      "execution_count": null,
      "outputs": [
        {
          "output_type": "execute_result",
          "data": {
            "text/plain": [
              "array([[1, 2, 3],\n",
              "       [4, 5, 6]])"
            ]
          },
          "metadata": {},
          "execution_count": 33
        }
      ]
    },
    {
      "cell_type": "markdown",
      "source": [
        "# Data Types\n",
        "## np.int64 : Signed 64-bit integer types\n",
        "## np.float32 : Standard double-precision floating point\n",
        "## np.complex Complex numbers represented by 128 floats\n",
        "## np.bool : Boolean type storing TRUE and FALSE values\n",
        "## np.object : Python object type\n",
        "## np.string_ Fixed-length string type\n",
        "## np.unicode_ Fixed-length unicode type\n"
      ],
      "metadata": {
        "id": "1fiE1gVzjA7q"
      }
    },
    {
      "cell_type": "markdown",
      "source": [
        "# **Array Mathematics**\n",
        "Arithmetic Operations\n"
      ],
      "metadata": {
        "id": "thRIL265kS7C"
      }
    },
    {
      "cell_type": "markdown",
      "source": [
        "np.subtract()"
      ],
      "metadata": {
        "id": "beE_DnwfkozH"
      }
    },
    {
      "cell_type": "code",
      "source": [
        "g = a - b\n",
        "np.subtract(a,b) #Subtraction"
      ],
      "metadata": {
        "colab": {
          "base_uri": "https://localhost:8080/"
        },
        "id": "WF5LCcjZiuAm",
        "outputId": "48b1d4a8-3c0e-4f99-fe9f-891b15b7a890"
      },
      "execution_count": null,
      "outputs": [
        {
          "output_type": "execute_result",
          "data": {
            "text/plain": [
              "array([[-0.5,  0. ,  0. ],\n",
              "       [-3. , -3. , -3. ]])"
            ]
          },
          "metadata": {},
          "execution_count": 71
        }
      ]
    },
    {
      "cell_type": "markdown",
      "source": [
        "np.add()"
      ],
      "metadata": {
        "id": "aAh47LdokqxY"
      }
    },
    {
      "cell_type": "code",
      "source": [
        "np.add(b,a) #Addition"
      ],
      "metadata": {
        "colab": {
          "base_uri": "https://localhost:8080/"
        },
        "id": "TvzeOjmWit-L",
        "outputId": "545c9a69-719a-4334-d9e3-a8b61f9e0503"
      },
      "execution_count": null,
      "outputs": [
        {
          "output_type": "execute_result",
          "data": {
            "text/plain": [
              "array([[2.5, 4. , 6. ],\n",
              "       [5. , 7. , 9. ]])"
            ]
          },
          "metadata": {},
          "execution_count": 35
        }
      ]
    },
    {
      "cell_type": "markdown",
      "source": [
        "np.divide()"
      ],
      "metadata": {
        "id": "QDWnhmSwk2-s"
      }
    },
    {
      "cell_type": "code",
      "source": [
        "np.divide(a,b) #Division"
      ],
      "metadata": {
        "colab": {
          "base_uri": "https://localhost:8080/"
        },
        "id": "jvBjUATait1Y",
        "outputId": "fae8a41f-a71d-44c7-d0dc-9c5305507a89"
      },
      "execution_count": null,
      "outputs": [
        {
          "output_type": "execute_result",
          "data": {
            "text/plain": [
              "array([[0.66666667, 1.        , 1.        ],\n",
              "       [0.25      , 0.4       , 0.5       ]])"
            ]
          },
          "metadata": {},
          "execution_count": 36
        }
      ]
    },
    {
      "cell_type": "markdown",
      "source": [
        "np.multiply()"
      ],
      "metadata": {
        "id": "-b1htxMWk_yf"
      }
    },
    {
      "cell_type": "code",
      "source": [
        "np.multiply(a,b) #Multiplication"
      ],
      "metadata": {
        "colab": {
          "base_uri": "https://localhost:8080/"
        },
        "id": "qf3zQ__0itx5",
        "outputId": "7c3abe06-1e7e-4b29-fc73-275d18383f8d"
      },
      "execution_count": null,
      "outputs": [
        {
          "output_type": "execute_result",
          "data": {
            "text/plain": [
              "array([[ 1.5,  4. ,  9. ],\n",
              "       [ 4. , 10. , 18. ]])"
            ]
          },
          "metadata": {},
          "execution_count": 37
        }
      ]
    },
    {
      "cell_type": "markdown",
      "source": [
        "np.exp()"
      ],
      "metadata": {
        "id": "_JM9_eowlKG8"
      }
    },
    {
      "cell_type": "code",
      "source": [
        "np.exp(b) #Exponentiation"
      ],
      "metadata": {
        "colab": {
          "base_uri": "https://localhost:8080/"
        },
        "id": "WpJdxdMgitvq",
        "outputId": "be1bd515-464e-4240-c58b-557a9b36c942"
      },
      "execution_count": null,
      "outputs": [
        {
          "output_type": "execute_result",
          "data": {
            "text/plain": [
              "array([[  4.48168907,   7.3890561 ,  20.08553692],\n",
              "       [ 54.59815003, 148.4131591 , 403.42879349]])"
            ]
          },
          "metadata": {},
          "execution_count": 38
        }
      ]
    },
    {
      "cell_type": "markdown",
      "source": [
        "np.sqrt()"
      ],
      "metadata": {
        "id": "9b0bAYT9lPbJ"
      }
    },
    {
      "cell_type": "code",
      "source": [
        "np.sqrt(b) #Square root"
      ],
      "metadata": {
        "colab": {
          "base_uri": "https://localhost:8080/"
        },
        "id": "KIgQZnZ6lGJc",
        "outputId": "2fd89e96-41bf-40e8-d7e7-34c87fd44287"
      },
      "execution_count": null,
      "outputs": [
        {
          "output_type": "execute_result",
          "data": {
            "text/plain": [
              "array([[1.22474487, 1.41421356, 1.73205081],\n",
              "       [2.        , 2.23606798, 2.44948974]])"
            ]
          },
          "metadata": {},
          "execution_count": 39
        }
      ]
    },
    {
      "cell_type": "markdown",
      "source": [
        "np.sin()"
      ],
      "metadata": {
        "id": "gOge-ZoNlhWD"
      }
    },
    {
      "cell_type": "code",
      "source": [
        "np.sin(a)  #Print sines of an array"
      ],
      "metadata": {
        "colab": {
          "base_uri": "https://localhost:8080/"
        },
        "id": "V2IOX814lGF9",
        "outputId": "808e6fa4-3dac-4b89-8e69-fd4e27ed84fe"
      },
      "execution_count": null,
      "outputs": [
        {
          "output_type": "execute_result",
          "data": {
            "text/plain": [
              "array([0.84147098, 0.90929743, 0.14112001])"
            ]
          },
          "metadata": {},
          "execution_count": 40
        }
      ]
    },
    {
      "cell_type": "markdown",
      "source": [
        "np.cos()"
      ],
      "metadata": {
        "id": "SYErZ63HlmLM"
      }
    },
    {
      "cell_type": "code",
      "source": [
        "np.cos(b) #Elementwise cosine"
      ],
      "metadata": {
        "colab": {
          "base_uri": "https://localhost:8080/"
        },
        "id": "5IPFtIAflGDc",
        "outputId": "b17d493c-f2ae-4b64-df54-84c6249e3d5b"
      },
      "execution_count": null,
      "outputs": [
        {
          "output_type": "execute_result",
          "data": {
            "text/plain": [
              "array([[ 0.0707372 , -0.41614684, -0.9899925 ],\n",
              "       [-0.65364362,  0.28366219,  0.96017029]])"
            ]
          },
          "metadata": {},
          "execution_count": 41
        }
      ]
    },
    {
      "cell_type": "markdown",
      "source": [
        "np.log()"
      ],
      "metadata": {
        "id": "snwLDwTilohq"
      }
    },
    {
      "cell_type": "code",
      "source": [
        "np.log(a)#Elementwise natural logarithm"
      ],
      "metadata": {
        "colab": {
          "base_uri": "https://localhost:8080/"
        },
        "id": "On8XducclGBU",
        "outputId": "b8e7f7a9-dd38-46a1-c8fa-a2a5de257baa"
      },
      "execution_count": null,
      "outputs": [
        {
          "output_type": "execute_result",
          "data": {
            "text/plain": [
              "array([0.        , 0.69314718, 1.09861229])"
            ]
          },
          "metadata": {},
          "execution_count": 42
        }
      ]
    },
    {
      "cell_type": "markdown",
      "source": [
        "e.dot()"
      ],
      "metadata": {
        "id": "Ugf_Qo2jls3A"
      }
    },
    {
      "cell_type": "code",
      "source": [
        "e.dot(f) #Dot product"
      ],
      "metadata": {
        "colab": {
          "base_uri": "https://localhost:8080/"
        },
        "id": "YJR7zxHkittZ",
        "outputId": "ba7b7444-08e6-4967-a3fd-c90efe82cb0e"
      },
      "execution_count": null,
      "outputs": [
        {
          "output_type": "execute_result",
          "data": {
            "text/plain": [
              "array([[7., 7.],\n",
              "       [7., 7.]])"
            ]
          },
          "metadata": {},
          "execution_count": 43
        }
      ]
    },
    {
      "cell_type": "markdown",
      "source": [
        "## Comparison"
      ],
      "metadata": {
        "id": "YENtttDEUEJr"
      }
    },
    {
      "cell_type": "code",
      "source": [
        "a == b #Elementwise comparison"
      ],
      "metadata": {
        "colab": {
          "base_uri": "https://localhost:8080/"
        },
        "id": "VVNhHMG4itrP",
        "outputId": "34ac7ad6-fe19-4904-8f5d-157b91d4fa7a"
      },
      "execution_count": null,
      "outputs": [
        {
          "output_type": "execute_result",
          "data": {
            "text/plain": [
              "array([[False,  True,  True],\n",
              "       [False, False, False]])"
            ]
          },
          "metadata": {},
          "execution_count": 44
        }
      ]
    },
    {
      "cell_type": "code",
      "source": [
        "a< 2 #Elementwise comparison"
      ],
      "metadata": {
        "colab": {
          "base_uri": "https://localhost:8080/"
        },
        "id": "gsEZC1ujito0",
        "outputId": "08775985-ddbc-427c-e08c-c03289000a3c"
      },
      "execution_count": null,
      "outputs": [
        {
          "output_type": "execute_result",
          "data": {
            "text/plain": [
              "array([ True, False, False])"
            ]
          },
          "metadata": {},
          "execution_count": 46
        }
      ]
    },
    {
      "cell_type": "markdown",
      "source": [
        "np.array_equal()"
      ],
      "metadata": {
        "id": "ZS8rwRs6UY--"
      }
    },
    {
      "cell_type": "code",
      "source": [
        "np.array_equal(a, b) #Arraywise comparison"
      ],
      "metadata": {
        "colab": {
          "base_uri": "https://localhost:8080/"
        },
        "id": "ZgoHjG33UQsR",
        "outputId": "82677f7c-0632-4eb0-e5e2-6850ca796605"
      },
      "execution_count": null,
      "outputs": [
        {
          "output_type": "execute_result",
          "data": {
            "text/plain": [
              "False"
            ]
          },
          "metadata": {},
          "execution_count": 47
        }
      ]
    },
    {
      "cell_type": "markdown",
      "source": [
        "# Subsetting, Slicing, Indexing\n",
        "## Subsetting"
      ],
      "metadata": {
        "id": "aTNBggZcUpH5"
      }
    },
    {
      "cell_type": "code",
      "source": [
        "print(a[2]) #Select the element at the 2nd index\n",
        "\n",
        "print(b[1,2]) #Select the element at row 1 column 2(equivalent to b[1][2])\n"
      ],
      "metadata": {
        "colab": {
          "base_uri": "https://localhost:8080/"
        },
        "id": "EAD1pY5kUX-E",
        "outputId": "11a5ae38-aa2e-46d4-e37d-eb239f384f11"
      },
      "execution_count": null,
      "outputs": [
        {
          "output_type": "stream",
          "name": "stdout",
          "text": [
            "3\n",
            "6.0\n"
          ]
        }
      ]
    },
    {
      "cell_type": "markdown",
      "source": [
        "## Slicing"
      ],
      "metadata": {
        "id": "sXWR57VAVmDZ"
      }
    },
    {
      "cell_type": "code",
      "source": [
        "a[0:2]#Select items at index 0 and 1"
      ],
      "metadata": {
        "colab": {
          "base_uri": "https://localhost:8080/"
        },
        "id": "NY8P-lOIUiLH",
        "outputId": "6bc17737-c13a-48e2-f533-daf9ea487925"
      },
      "execution_count": null,
      "outputs": [
        {
          "output_type": "execute_result",
          "data": {
            "text/plain": [
              "array([1, 2])"
            ]
          },
          "metadata": {},
          "execution_count": 58
        }
      ]
    },
    {
      "cell_type": "code",
      "source": [
        "b[0:2,1] #Select items at rows 0 and 1 in column 1"
      ],
      "metadata": {
        "colab": {
          "base_uri": "https://localhost:8080/"
        },
        "id": "D_CecCRCVrFK",
        "outputId": "b2be3454-2f4a-4a62-c9cf-61bd27daec71"
      },
      "execution_count": null,
      "outputs": [
        {
          "output_type": "execute_result",
          "data": {
            "text/plain": [
              "array([2., 5.])"
            ]
          },
          "metadata": {},
          "execution_count": 59
        }
      ]
    },
    {
      "cell_type": "code",
      "source": [
        "b[:1] #Select all items at row0(equivalent to b[0:1, :])"
      ],
      "metadata": {
        "colab": {
          "base_uri": "https://localhost:8080/"
        },
        "id": "fSCeBqraVxIs",
        "outputId": "34649b94-bfe8-484f-f219-74700f558e71"
      },
      "execution_count": null,
      "outputs": [
        {
          "output_type": "execute_result",
          "data": {
            "text/plain": [
              "array([[1.5, 2. , 3. ]])"
            ]
          },
          "metadata": {},
          "execution_count": 61
        }
      ]
    },
    {
      "cell_type": "code",
      "source": [
        "c[1,...] #Same as[1,:,:]"
      ],
      "metadata": {
        "colab": {
          "base_uri": "https://localhost:8080/"
        },
        "id": "rruxMaFwV2rw",
        "outputId": "0c98a509-1ae2-4e82-ed40-62a40273c8dd"
      },
      "execution_count": null,
      "outputs": [
        {
          "output_type": "execute_result",
          "data": {
            "text/plain": [
              "array([[3., 2., 3.],\n",
              "       [4., 5., 6.]])"
            ]
          },
          "metadata": {},
          "execution_count": 62
        }
      ]
    },
    {
      "cell_type": "code",
      "source": [
        "a[ : : -1] #Reversed array a array([3, 2, 1])"
      ],
      "metadata": {
        "colab": {
          "base_uri": "https://localhost:8080/"
        },
        "id": "KrDDoXK2V-Rh",
        "outputId": "e9bd21b1-9de2-4035-d7f1-fe6bb8646e60"
      },
      "execution_count": null,
      "outputs": [
        {
          "output_type": "execute_result",
          "data": {
            "text/plain": [
              "array([3, 2, 1])"
            ]
          },
          "metadata": {},
          "execution_count": 63
        }
      ]
    },
    {
      "cell_type": "markdown",
      "source": [
        "## Indexing"
      ],
      "metadata": {
        "id": "Qdx6YVO2WL_Y"
      }
    },
    {
      "cell_type": "code",
      "source": [
        "a[a<2] #Select elements from a less than 2"
      ],
      "metadata": {
        "colab": {
          "base_uri": "https://localhost:8080/"
        },
        "id": "dKJ_WK6LWEmj",
        "outputId": "472cab7b-d98d-4212-9676-5fa87da51736"
      },
      "execution_count": null,
      "outputs": [
        {
          "output_type": "execute_result",
          "data": {
            "text/plain": [
              "array([1])"
            ]
          },
          "metadata": {},
          "execution_count": 65
        }
      ]
    },
    {
      "cell_type": "markdown",
      "source": [
        "## Fancy Indexing"
      ],
      "metadata": {
        "id": "WwAI7a17WaMM"
      }
    },
    {
      "cell_type": "code",
      "source": [
        "b[[1,0,1, 0],[0,1, 2, 0]] #Select elements(1,0),(0,1),(1,2) and(0,0)"
      ],
      "metadata": {
        "colab": {
          "base_uri": "https://localhost:8080/"
        },
        "id": "_kxnblHYWUtL",
        "outputId": "76f0ab19-068e-4f79-f372-73d3210985ef"
      },
      "execution_count": null,
      "outputs": [
        {
          "output_type": "execute_result",
          "data": {
            "text/plain": [
              "array([4. , 2. , 6. , 1.5])"
            ]
          },
          "metadata": {},
          "execution_count": 66
        }
      ]
    },
    {
      "cell_type": "code",
      "source": [
        "b[[1,0,1, 0]][:,[0,1,2,0]] #Select a subset of the matrix’s rows and columns"
      ],
      "metadata": {
        "colab": {
          "base_uri": "https://localhost:8080/"
        },
        "id": "Cu3gN7OEWqeU",
        "outputId": "08553d46-52dd-4af0-8bdd-ae0ce5a39ab9"
      },
      "execution_count": null,
      "outputs": [
        {
          "output_type": "execute_result",
          "data": {
            "text/plain": [
              "array([[4. , 5. , 6. , 4. ],\n",
              "       [1.5, 2. , 3. , 1.5],\n",
              "       [4. , 5. , 6. , 4. ],\n",
              "       [1.5, 2. , 3. , 1.5]])"
            ]
          },
          "metadata": {},
          "execution_count": 67
        }
      ]
    },
    {
      "cell_type": "markdown",
      "source": [
        "# Array Manipulation\n",
        "Transposing Array"
      ],
      "metadata": {
        "id": "pFvXudjDWwEv"
      }
    },
    {
      "cell_type": "code",
      "source": [
        "i = np.transpose(b) #Permute array dimensions\n",
        "i.T #Permute array dimensions (another way to do transpose)"
      ],
      "metadata": {
        "colab": {
          "base_uri": "https://localhost:8080/"
        },
        "id": "FwVlBaj3Wqa8",
        "outputId": "287111d2-483d-4d13-a36e-a00c1dcb1644"
      },
      "execution_count": null,
      "outputs": [
        {
          "output_type": "execute_result",
          "data": {
            "text/plain": [
              "array([[1.5, 2. , 3. ],\n",
              "       [4. , 5. , 6. ]])"
            ]
          },
          "metadata": {},
          "execution_count": 69
        }
      ]
    },
    {
      "cell_type": "markdown",
      "source": [
        "Changing Array Shape"
      ],
      "metadata": {
        "id": "degq4GKCXImF"
      }
    },
    {
      "cell_type": "code",
      "source": [
        "b.ravel() #Flatten the array\n",
        "g.reshape(3, -2) #Reshape, but don’t change data"
      ],
      "metadata": {
        "colab": {
          "base_uri": "https://localhost:8080/"
        },
        "id": "bKf_sbhOWoQi",
        "outputId": "296aca4d-cdb3-4d10-fbce-d0051e8b01b6"
      },
      "execution_count": null,
      "outputs": [
        {
          "output_type": "execute_result",
          "data": {
            "text/plain": [
              "array([[-0.5,  0. ],\n",
              "       [ 0. , -3. ],\n",
              "       [-3. , -3. ]])"
            ]
          },
          "metadata": {},
          "execution_count": 72
        }
      ]
    },
    {
      "cell_type": "markdown",
      "source": [
        "Adding/Removing Elements"
      ],
      "metadata": {
        "id": "p4KEwO9YXmw6"
      }
    },
    {
      "cell_type": "code",
      "source": [
        "h = a.copy() # Create a deep copy of the array\n",
        "h.resize((2,6)) #Return a new arraywith shape(2,6)\n",
        "h"
      ],
      "metadata": {
        "colab": {
          "base_uri": "https://localhost:8080/"
        },
        "id": "ZlsKwXfVXLQK",
        "outputId": "a88f3012-0af6-431b-902b-5f1ec5e82183"
      },
      "execution_count": null,
      "outputs": [
        {
          "output_type": "execute_result",
          "data": {
            "text/plain": [
              "array([[1, 2, 3, 0, 0, 0],\n",
              "       [0, 0, 0, 0, 0, 0]])"
            ]
          },
          "metadata": {},
          "execution_count": 76
        }
      ]
    },
    {
      "cell_type": "code",
      "source": [
        "np.append(h,g) #Append items to an array"
      ],
      "metadata": {
        "colab": {
          "base_uri": "https://localhost:8080/"
        },
        "id": "TBo8HQclX2EH",
        "outputId": "5e7965d7-1331-4745-fad7-bc11d8704438"
      },
      "execution_count": null,
      "outputs": [
        {
          "output_type": "execute_result",
          "data": {
            "text/plain": [
              "array([ 1. ,  2. ,  3. ,  0. ,  0. ,  0. ,  0. ,  0. ,  0. ,  0. ,  0. ,\n",
              "        0. , -0.5,  0. ,  0. , -3. , -3. , -3. ])"
            ]
          },
          "metadata": {},
          "execution_count": 77
        }
      ]
    },
    {
      "cell_type": "code",
      "source": [
        "np.insert(a,1,5)  #Insert items in an array"
      ],
      "metadata": {
        "colab": {
          "base_uri": "https://localhost:8080/"
        },
        "id": "4U8zCl7LYKM5",
        "outputId": "ead33295-f1ae-4b15-859f-f5cbcb5a38e5"
      },
      "execution_count": null,
      "outputs": [
        {
          "output_type": "execute_result",
          "data": {
            "text/plain": [
              "array([1, 5, 2, 3])"
            ]
          },
          "metadata": {},
          "execution_count": 78
        }
      ]
    },
    {
      "cell_type": "code",
      "source": [
        "np.delete(a,[1])  #Delete items from an array"
      ],
      "metadata": {
        "colab": {
          "base_uri": "https://localhost:8080/"
        },
        "id": "sduntLh7YOzW",
        "outputId": "05e06d43-86e8-490d-8d6b-c063a74c90d5"
      },
      "execution_count": null,
      "outputs": [
        {
          "output_type": "execute_result",
          "data": {
            "text/plain": [
              "array([1, 3])"
            ]
          },
          "metadata": {},
          "execution_count": 79
        }
      ]
    }
  ]
}